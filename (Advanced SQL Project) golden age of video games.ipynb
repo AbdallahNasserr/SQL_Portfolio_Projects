{
 "cells": [
  {
   "cell_type": "markdown",
   "id": "ab1be35d",
   "metadata": {
    "dc": {
     "key": "7"
    },
    "deletable": false,
    "papermill": {
     "duration": 0.004351,
     "end_time": "2024-03-09T17:12:54.365755",
     "exception": false,
     "start_time": "2024-03-09T17:12:54.361404",
     "status": "completed"
    },
    "run_control": {
     "frozen": true
    },
    "tags": [
     "context"
    ]
   },
   "source": [
    "## 1. The ten best-selling video games\n",
    "<p><img src=\"https://assets.datacamp.com/production/project_1413/img/video_game.jpg\" alt=\"A video game player choosing a game to play on Nintendo Switch.\" width=\"400\"></p>\n",
    "<p>Photo by <a href=\"https://unsplash.com/@retromoon\">Dan Schleusser</a> on <a href=\"https://unsplash.com\">Unsplash</a>.</p>\n",
    "<p>Video games are big business: the global gaming market is projected to be worth more than $300 billion by 2027 according to <a href=\"https://www.mordorintelligence.com/industry-reports/global-gaming-market\">Mordor Intelligence</a>. With so much money at stake, the major game publishers are hugely incentivized to create the next big hit. But are games getting better, or has the golden age of video games already passed?</p>\n",
    "<p>In this project, we'll explore the top 400 best-selling video games created between 1977 and 2020. We'll compare a dataset on game sales with critic and user reviews to determine whether or not video games have improved as the gaming market has grown.</p>\n",
    "<p>Our database contains two tables. We've limited each table to 400 rows for this project, but you can find the complete dataset with over 13,000 games on <a href=\"https://www.kaggle.com/holmjason2/videogamedata\">Kaggle</a>. </p>\n",
    "<h3 id=\"game_sales\"><code>game_sales</code></h3>\n",
    "<table>\n",
    "<thead>\n",
    "<tr>\n",
    "<th style=\"text-align:left;\">column</th>\n",
    "<th>type</th>\n",
    "<th>meaning</th>\n",
    "</tr>\n",
    "</thead>\n",
    "<tbody>\n",
    "<tr>\n",
    "<td style=\"text-align:left;\"><code>game</code></td>\n",
    "<td>varchar</td>\n",
    "<td>Name of the video game</td>\n",
    "</tr>\n",
    "<tr>\n",
    "<td style=\"text-align:left;\"><code>platform</code></td>\n",
    "<td>varchar</td>\n",
    "<td>Gaming platform</td>\n",
    "</tr>\n",
    "<tr>\n",
    "<td style=\"text-align:left;\"><code>publisher</code></td>\n",
    "<td>varchar</td>\n",
    "<td>Game publisher</td>\n",
    "</tr>\n",
    "<tr>\n",
    "<td style=\"text-align:left;\"><code>developer</code></td>\n",
    "<td>varchar</td>\n",
    "<td>Game developer</td>\n",
    "</tr>\n",
    "<tr>\n",
    "<td style=\"text-align:left;\"><code>games_sold</code></td>\n",
    "<td>float</td>\n",
    "<td>Number of copies sold (millions)</td>\n",
    "</tr>\n",
    "<tr>\n",
    "<td style=\"text-align:left;\"><code>year</code></td>\n",
    "<td>int</td>\n",
    "<td>Release year</td>\n",
    "</tr>\n",
    "</tbody>\n",
    "</table>\n",
    "<h3 id=\"reviews\"><code>reviews</code></h3>\n",
    "<table>\n",
    "<thead>\n",
    "<tr>\n",
    "<th style=\"text-align:left;\">column</th>\n",
    "<th>type</th>\n",
    "<th>meaning</th>\n",
    "</tr>\n",
    "</thead>\n",
    "<tbody>\n",
    "<tr>\n",
    "<td style=\"text-align:left;\"><code>game</code></td>\n",
    "<td>varchar</td>\n",
    "<td>Name of the video game</td>\n",
    "</tr>\n",
    "<tr>\n",
    "<td style=\"text-align:left;\"><code>critic_score</code></td>\n",
    "<td>float</td>\n",
    "<td>Critic score according to Metacritic</td>\n",
    "</tr>\n",
    "<tr>\n",
    "<td style=\"text-align:left;\"><code>user_score</code></td>\n",
    "<td>float</td>\n",
    "<td>User score according to Metacritic</td>\n",
    "</tr>\n",
    "</tbody>\n",
    "</table>\n",
    "<p>Let's begin by looking at some of the top selling video games of all time!</p>"
   ]
  },
  {
   "cell_type": "code",
   "execution_count": 1,
   "id": "55530f3b",
   "metadata": {
    "dc": {
     "key": "7"
    },
    "execution": {
     "iopub.execute_input": "2024-03-09T17:12:54.375854Z",
     "iopub.status.busy": "2024-03-09T17:12:54.374856Z",
     "iopub.status.idle": "2024-03-09T17:12:54.386843Z",
     "shell.execute_reply": "2024-03-09T17:12:54.385074Z"
    },
    "papermill": {
     "duration": 0.018901,
     "end_time": "2024-03-09T17:12:54.388559",
     "exception": true,
     "start_time": "2024-03-09T17:12:54.369658",
     "status": "failed"
    },
    "tags": [
     "sample_code"
    ]
   },
   "outputs": [
    {
     "name": "stderr",
     "output_type": "stream",
     "text": [
      "UsageError: Cell magic `%%sql` not found.\n"
     ]
    }
   ],
   "source": [
    "%%sql\n",
    "postgresql:///games\n",
    "\n",
    "-- Select all information for the top ten best-selling games\n",
    "-- Order the results from best-selling game down to tenth best-selling\n",
    "\n",
    "\n",
    "SELECT *\n",
    "FROM game_sales\n",
    "ORDER BY games_sold DESC\n",
    "LIMIT 10;"
   ]
  },
  {
   "cell_type": "markdown",
   "id": "d4cfbadd",
   "metadata": {
    "dc": {
     "key": "14"
    },
    "deletable": false,
    "papermill": {
     "duration": null,
     "end_time": null,
     "exception": null,
     "start_time": null,
     "status": "pending"
    },
    "run_control": {
     "frozen": true
    },
    "tags": [
     "context"
    ]
   },
   "source": [
    "## 2. Missing review scores\n",
    "<p>Wow, the best-selling video games were released between 1985 to 2017! That's quite a range; we'll have to use data from the <code>reviews</code> table to gain more insight on the best years for video games. </p>\n",
    "<p>First, it's important to explore the limitations of our database. One big shortcoming is that there is not any <code>reviews</code> data for some of the games on the <code>game_sales</code> table. </p>"
   ]
  },
  {
   "cell_type": "code",
   "execution_count": null,
   "id": "b52bc6c8",
   "metadata": {
    "dc": {
     "key": "14"
    },
    "papermill": {
     "duration": null,
     "end_time": null,
     "exception": null,
     "start_time": null,
     "status": "pending"
    },
    "tags": [
     "sample_code"
    ]
   },
   "outputs": [],
   "source": [
    "%%sql \n",
    "\n",
    "-- Join games_sales and reviews\n",
    "-- Select a count of the number of games where both critic_score and user_score are null\n",
    "\n",
    "-- Count the number of records where critic_score and user_score are both null\n",
    "SELECT COUNT(*)\n",
    "FROM game_sales\n",
    "FULL OUTER JOIN reviews\n",
    "USING (game)\n",
    "WHERE critic_score IS NULL\n",
    "  AND user_score IS NULL;\n"
   ]
  },
  {
   "cell_type": "markdown",
   "id": "fc48e205",
   "metadata": {
    "dc": {
     "key": "21"
    },
    "deletable": false,
    "papermill": {
     "duration": null,
     "end_time": null,
     "exception": null,
     "start_time": null,
     "status": "pending"
    },
    "run_control": {
     "frozen": true
    },
    "tags": [
     "context"
    ]
   },
   "source": [
    "## 3. Years that video game critics loved\n",
    "<p>It looks like a little less than ten percent of the games on the <code>game_sales</code> table don't have any reviews data. That's a small enough percentage that we can continue our exploration, but the missing reviews data is a good thing to keep in mind as we move on to evaluating results from more sophisticated queries. </p>\n",
    "<p>There are lots of ways to measure the best years for video games! Let's start with what the critics think. </p>"
   ]
  },
  {
   "cell_type": "code",
   "execution_count": null,
   "id": "395b30d5",
   "metadata": {
    "dc": {
     "key": "21"
    },
    "papermill": {
     "duration": null,
     "end_time": null,
     "exception": null,
     "start_time": null,
     "status": "pending"
    },
    "tags": [
     "sample_code"
    ]
   },
   "outputs": [],
   "source": [
    "%%sql\n",
    "\n",
    "-- Select release year and average critic score for each year, rounded and aliased\n",
    "-- Join the game_sales and reviews tables\n",
    "-- Group by release year\n",
    "-- Order the data from highest to lowest avg_critic_score and limit to 10 results\n",
    "\n",
    "-- Select the year and average critic score for games, joined with game sales\n",
    "-- Group the results by year and order them by average critic score in descending order, limiting to the top 10\n",
    "\n",
    "SELECT year,\n",
    "       AVG(critic_score) AS avg_critic_score\n",
    "FROM reviews\n",
    "JOIN game_sales USING (game)\n",
    "GROUP BY year\n",
    "ORDER BY avg_critic_score DESC\n",
    "LIMIT 10;\n"
   ]
  },
  {
   "cell_type": "markdown",
   "id": "1539bf1b",
   "metadata": {
    "dc": {
     "key": "28"
    },
    "deletable": false,
    "papermill": {
     "duration": null,
     "end_time": null,
     "exception": null,
     "start_time": null,
     "status": "pending"
    },
    "run_control": {
     "frozen": true
    },
    "tags": [
     "context"
    ]
   },
   "source": [
    "## 4. Was 1982 really that great?\n",
    "<p>The range of great years according to critic reviews goes from 1982 until 2020: we are no closer to finding the golden age of video games! </p>\n",
    "<p>Hang on, though. Some of those <code>avg_critic_score</code> values look like suspiciously round numbers for averages. The value for 1982 looks especially fishy. Maybe there weren't a lot of video games in our dataset that were released in certain years. </p>\n",
    "<p>Let's update our query and find out whether 1982 really was such a great year for video games.</p>"
   ]
  },
  {
   "cell_type": "code",
   "execution_count": null,
   "id": "f8e5d8c4",
   "metadata": {
    "dc": {
     "key": "28"
    },
    "papermill": {
     "duration": null,
     "end_time": null,
     "exception": null,
     "start_time": null,
     "status": "pending"
    },
    "tags": [
     "sample_code"
    ]
   },
   "outputs": [],
   "source": [
    "%%sql \n",
    "\n",
    "-- Paste your query from the previous task; update it to add a count of games released in each year called num_games\n",
    "-- Update the query so that it only returns years that have more than four reviewed games\n",
    "\n",
    "-- Select the year, average critic score, and count of games for years with more than 4 games reviewed\n",
    "-- Joined with game sales and grouped by year, with results ordered by average critic score in descending order, limited to the top 10\n",
    "\n",
    "SELECT year,\n",
    "       AVG(critic_score) AS avg_critic_score,\n",
    "       COUNT(*) AS num_games\n",
    "FROM reviews\n",
    "JOIN game_sales USING (game)\n",
    "GROUP BY year\n",
    "HAVING COUNT(*) > 4\n",
    "ORDER BY avg_critic_score DESC\n",
    "LIMIT 10;\n"
   ]
  },
  {
   "cell_type": "markdown",
   "id": "cab8537d",
   "metadata": {
    "dc": {
     "key": "35"
    },
    "deletable": false,
    "papermill": {
     "duration": null,
     "end_time": null,
     "exception": null,
     "start_time": null,
     "status": "pending"
    },
    "run_control": {
     "frozen": true
    },
    "tags": [
     "context"
    ]
   },
   "source": [
    "## 5. Years that dropped off the critics' favorites list\n",
    "<p>That looks better! The <code>num_games</code> column convinces us that our new list of the critics' top games reflects years that had quite a few well-reviewed games rather than just one or two hits. But which years dropped off the list due to having four or fewer reviewed games? Let's identify them so that someday we can track down more game reviews for those years and determine whether they might rightfully be considered as excellent years for video game releases!</p>\n",
    "<p>It's time to brush off your set theory skills. To get started, we've created tables with the results of our previous two queries:</p>\n",
    "<h3 id=\"top_critic_years\"><code>top_critic_years</code></h3>\n",
    "<table>\n",
    "<thead>\n",
    "<tr>\n",
    "<th style=\"text-align:left;\">column</th>\n",
    "<th>type</th>\n",
    "<th>meaning</th>\n",
    "</tr>\n",
    "</thead>\n",
    "<tbody>\n",
    "<tr>\n",
    "<td style=\"text-align:left;\"><code>year</code></td>\n",
    "<td>int</td>\n",
    "<td>Year of video game release</td>\n",
    "</tr>\n",
    "<tr>\n",
    "<td style=\"text-align:left;\"><code>avg_critic_score</code></td>\n",
    "<td>float</td>\n",
    "<td>Average of all critic scores for games released in that year</td>\n",
    "</tr>\n",
    "</tbody>\n",
    "</table>\n",
    "<h3 id=\"top_critic_years_more_than_four_games\"><code>top_critic_years_more_than_four_games</code></h3>\n",
    "<table>\n",
    "<thead>\n",
    "<tr>\n",
    "<th style=\"text-align:left;\">column</th>\n",
    "<th>type</th>\n",
    "<th>meaning</th>\n",
    "</tr>\n",
    "</thead>\n",
    "<tbody>\n",
    "<tr>\n",
    "<td style=\"text-align:left;\"><code>year</code></td>\n",
    "<td>int</td>\n",
    "<td>Year of video game release</td>\n",
    "</tr>\n",
    "<tr>\n",
    "<td style=\"text-align:left;\"><code>num_games</code></td>\n",
    "<td>int</td>\n",
    "<td>Count of the number of video games released in that year</td>\n",
    "</tr>\n",
    "<tr>\n",
    "<td style=\"text-align:left;\"><code>avg_critic_score</code></td>\n",
    "<td>float</td>\n",
    "<td>Average of all critic scores for games released in that year</td>\n",
    "</tr>\n",
    "</tbody>\n",
    "</table>"
   ]
  },
  {
   "cell_type": "code",
   "execution_count": null,
   "id": "0439ea8a",
   "metadata": {
    "dc": {
     "key": "35"
    },
    "papermill": {
     "duration": null,
     "end_time": null,
     "exception": null,
     "start_time": null,
     "status": "pending"
    },
    "tags": [
     "sample_code"
    ]
   },
   "outputs": [],
   "source": [
    "%%sql \n",
    "\n",
    "-- Select the year and avg_critic_score for those years that dropped off the list of critic favorites \n",
    "-- Order the results from highest to lowest avg_critic_score\n",
    "\n",
    "SELECT year,\n",
    "       AVG(critic_score) AS avg_critic_score\n",
    "FROM reviews\n",
    "JOIN game_sales USING (game)\n",
    "WHERE year IN (SELECT year FROM top_critic_years)\n",
    "  AND year NOT IN (SELECT year FROM top_critic_years_more_than_four_games)\n",
    "GROUP BY year\n",
    "ORDER BY avg_critic_score DESC;\n"
   ]
  },
  {
   "cell_type": "markdown",
   "id": "9f011036",
   "metadata": {
    "dc": {
     "key": "42"
    },
    "deletable": false,
    "papermill": {
     "duration": null,
     "end_time": null,
     "exception": null,
     "start_time": null,
     "status": "pending"
    },
    "run_control": {
     "frozen": true
    },
    "tags": [
     "context"
    ]
   },
   "source": [
    "## 6. Years video game players loved\n",
    "<p>Based on our work in the task above, it looks like the early 1990s might merit consideration as the golden age of video games based on <code>critic_score</code> alone, but we'd need to gather more games and reviews data to do further analysis. </p>\n",
    "<p>Let's move on to looking at the opinions of another important group of people: players! To begin, let's create a query very similar to the one we used in Task Four, except this one will look at <code>user_score</code> averages by year rather than <code>critic_score</code> averages.</p>"
   ]
  },
  {
   "cell_type": "code",
   "execution_count": null,
   "id": "bdd662a5",
   "metadata": {
    "dc": {
     "key": "42"
    },
    "papermill": {
     "duration": null,
     "end_time": null,
     "exception": null,
     "start_time": null,
     "status": "pending"
    },
    "tags": [
     "sample_code"
    ]
   },
   "outputs": [],
   "source": [
    "%%sql \n",
    "\n",
    "-- Select year, an average of user_score, and a count of games released in a given year, aliased and rounded\n",
    "-- Include only years with more than four reviewed games; group data by year\n",
    "-- Order data by avg_user_score, and limit to ten results\n",
    "\n",
    "\n",
    "SELECT year,\n",
    "       ROUND(AVG(user_score), 2) AS avg_user_score,\n",
    "       COUNT(*) AS num_games\n",
    "FROM reviews\n",
    "JOIN game_sales USING (game)\n",
    "GROUP BY year\n",
    "HAVING COUNT(*) > 4\n",
    "ORDER BY avg_user_score DESC\n",
    "LIMIT 10;\n"
   ]
  },
  {
   "cell_type": "markdown",
   "id": "a712c902",
   "metadata": {
    "dc": {
     "key": "49"
    },
    "deletable": false,
    "papermill": {
     "duration": null,
     "end_time": null,
     "exception": null,
     "start_time": null,
     "status": "pending"
    },
    "run_control": {
     "frozen": true
    },
    "tags": [
     "context"
    ]
   },
   "source": [
    "## 7. Years that both players and critics loved\n",
    "<p>Alright, we've got a list of the top ten years according to both critic reviews and user reviews. Are there any years that showed up on both tables? If so, those years would certainly be excellent ones!</p>\n",
    "<p>Recall that we have access to the <code>top_critic_years_more_than_four_games</code> table, which stores the results of our top critic years query from Task 4:</p>\n",
    "<h3 id=\"top_critic_years_more_than_four_games\"><code>top_critic_years_more_than_four_games</code></h3>\n",
    "<table>\n",
    "<thead>\n",
    "<tr>\n",
    "<th style=\"text-align:left;\">column</th>\n",
    "<th>type</th>\n",
    "<th>meaning</th>\n",
    "</tr>\n",
    "</thead>\n",
    "<tbody>\n",
    "<tr>\n",
    "<td style=\"text-align:left;\"><code>year</code></td>\n",
    "<td>int</td>\n",
    "<td>Year of video game release</td>\n",
    "</tr>\n",
    "<tr>\n",
    "<td style=\"text-align:left;\"><code>num_games</code></td>\n",
    "<td>int</td>\n",
    "<td>Count of the number of video games released in that year</td>\n",
    "</tr>\n",
    "<tr>\n",
    "<td style=\"text-align:left;\"><code>avg_critic_score</code></td>\n",
    "<td>float</td>\n",
    "<td>Average of all critic scores for games released in that year</td>\n",
    "</tr>\n",
    "</tbody>\n",
    "</table>\n",
    "<p>We've also saved the results of our top user years query from the previous task into a table:</p>\n",
    "<h3 id=\"top_user_years_more_than_four_games\"><code>top_user_years_more_than_four_games</code></h3>\n",
    "<table>\n",
    "<thead>\n",
    "<tr>\n",
    "<th style=\"text-align:left;\">column</th>\n",
    "<th>type</th>\n",
    "<th>meaning</th>\n",
    "</tr>\n",
    "</thead>\n",
    "<tbody>\n",
    "<tr>\n",
    "<td style=\"text-align:left;\"><code>year</code></td>\n",
    "<td>int</td>\n",
    "<td>Year of video game release</td>\n",
    "</tr>\n",
    "<tr>\n",
    "<td style=\"text-align:left;\"><code>num_games</code></td>\n",
    "<td>int</td>\n",
    "<td>Count of the number of video games released in that year</td>\n",
    "</tr>\n",
    "<tr>\n",
    "<td style=\"text-align:left;\"><code>avg_user_score</code></td>\n",
    "<td>float</td>\n",
    "<td>Average of all user scores for games released in that year</td>\n",
    "</tr>\n",
    "</tbody>\n",
    "</table>"
   ]
  },
  {
   "cell_type": "code",
   "execution_count": null,
   "id": "43960610",
   "metadata": {
    "dc": {
     "key": "49"
    },
    "papermill": {
     "duration": null,
     "end_time": null,
     "exception": null,
     "start_time": null,
     "status": "pending"
    },
    "tags": [
     "sample_code"
    ]
   },
   "outputs": [],
   "source": [
    "%%sql \n",
    "\n",
    "-- Select the year results that appear on both tables\n",
    "\n",
    "SELECT year\n",
    "FROM top_critic_years_more_than_four_games\n",
    "JOIN top_user_years_more_than_four_games \n",
    "USING (year);"
   ]
  },
  {
   "cell_type": "markdown",
   "id": "3a1a7ab0",
   "metadata": {
    "dc": {
     "key": "56"
    },
    "deletable": false,
    "papermill": {
     "duration": null,
     "end_time": null,
     "exception": null,
     "start_time": null,
     "status": "pending"
    },
    "run_control": {
     "frozen": true
    },
    "tags": [
     "context"
    ]
   },
   "source": [
    "## 8. Sales in the best video game years\n",
    "<p>Looks like we've got three years that both users and critics agreed were in the top ten! There are many other ways of measuring what the best years for video games are, but let's stick with these years for now. We know that critics and players liked these years, but what about video game makers? Were sales good? Let's find out.</p>\n",
    "<p>This time, we haven't saved the results from the previous task in a table for you. Instead, we'll use the query from the previous task as a subquery in this one! This is a great skill to have, as we don't always have write permissions on the database we are querying.</p>"
   ]
  },
  {
   "cell_type": "code",
   "execution_count": null,
   "id": "be0c8333",
   "metadata": {
    "dc": {
     "key": "56"
    },
    "papermill": {
     "duration": null,
     "end_time": null,
     "exception": null,
     "start_time": null,
     "status": "pending"
    },
    "tags": [
     "sample_code"
    ]
   },
   "outputs": [],
   "source": [
    "%%sql \n",
    "\n",
    "-- Select year and sum of games_sold, aliased as total_games_sold; order results by total_games_sold descending\n",
    "-- Filter game_sales based on whether each year is in the list returned in the previous task\n",
    "\n",
    "\n",
    "SELECT year,\n",
    "       SUM(games_sold) AS total_games_sold\n",
    "FROM game_sales\n",
    "WHERE year IN (\n",
    "    SELECT year\n",
    "    FROM top_critic_years_more_than_four_games\n",
    "    JOIN top_user_years_more_than_four_games USING (year)\n",
    ")\n",
    "GROUP BY year\n",
    "ORDER BY total_games_sold DESC;\n"
   ]
  }
 ],
 "metadata": {
  "kaggle": {
   "accelerator": "none",
   "dataSources": [],
   "isGpuEnabled": false,
   "isInternetEnabled": true,
   "language": "python",
   "sourceType": "notebook"
  },
  "kernelspec": {
   "display_name": "Python 3 (ipykernel)",
   "language": "python",
   "name": "python3"
  },
  "language_info": {
   "codemirror_mode": {
    "name": "ipython",
    "version": 3
   },
   "file_extension": ".py",
   "mimetype": "text/x-python",
   "name": "python",
   "nbconvert_exporter": "python",
   "pygments_lexer": "ipython3",
   "version": "3.10.13"
  },
  "papermill": {
   "default_parameters": {},
   "duration": 2.842032,
   "end_time": "2024-03-09T17:12:54.712620",
   "environment_variables": {},
   "exception": true,
   "input_path": "__notebook__.ipynb",
   "output_path": "__notebook__.ipynb",
   "parameters": {},
   "start_time": "2024-03-09T17:12:51.870588",
   "version": "2.5.0"
  }
 },
 "nbformat": 4,
 "nbformat_minor": 5
}
